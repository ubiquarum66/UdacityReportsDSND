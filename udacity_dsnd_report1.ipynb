{
 "cells": [
  {
   "cell_type": "markdown",
   "metadata": {},
   "source": [
    "# Notebook to analyze some Programming Language Info\n",
    "\n",
    "Here some facts about the programming languages used by Stack Overflow users 2015 will be extracted:\n",
    "## First import all necessary libraries:\n",
    "        "
   ]
  },
  {
   "cell_type": "code",
   "execution_count": null,
   "metadata": {},
   "outputs": [],
   "source": [
    "# a look at the data\n",
    "import sys as ys\n",
    "import numpy as np\n",
    "import pandas as pd\n",
    "import matplotlib.pyplot as plt\n",
    "import math as m\n",
    "from collections import defaultdict\n",
    "import seaborn as sns\n",
    "%matplotlib inline\n"
   ]
  },
  {
   "cell_type": "code",
   "execution_count": 127,
   "metadata": {},
   "outputs": [
    {
     "data": {
      "text/html": [
       "<div>\n",
       "<style scoped>\n",
       "    .dataframe tbody tr th:only-of-type {\n",
       "        vertical-align: middle;\n",
       "    }\n",
       "\n",
       "    .dataframe tbody tr th {\n",
       "        vertical-align: top;\n",
       "    }\n",
       "\n",
       "    .dataframe thead th {\n",
       "        text-align: right;\n",
       "    }\n",
       "</style>\n",
       "<table border=\"1\" class=\"dataframe\">\n",
       "  <thead>\n",
       "    <tr style=\"text-align: right;\">\n",
       "      <th></th>\n",
       "      <th>Respondent</th>\n",
       "      <th>Professional</th>\n",
       "      <th>ProgramHobby</th>\n",
       "      <th>Country</th>\n",
       "      <th>University</th>\n",
       "      <th>EmploymentStatus</th>\n",
       "      <th>FormalEducation</th>\n",
       "      <th>MajorUndergrad</th>\n",
       "      <th>HomeRemote</th>\n",
       "      <th>CompanySize</th>\n",
       "      <th>...</th>\n",
       "      <th>StackOverflowMakeMoney</th>\n",
       "      <th>Gender</th>\n",
       "      <th>HighestEducationParents</th>\n",
       "      <th>Race</th>\n",
       "      <th>SurveyLong</th>\n",
       "      <th>QuestionsInteresting</th>\n",
       "      <th>QuestionsConfusing</th>\n",
       "      <th>InterestedAnswers</th>\n",
       "      <th>Salary</th>\n",
       "      <th>ExpectedSalary</th>\n",
       "    </tr>\n",
       "  </thead>\n",
       "  <tbody>\n",
       "    <tr>\n",
       "      <th>0</th>\n",
       "      <td>1</td>\n",
       "      <td>Student</td>\n",
       "      <td>Yes, both</td>\n",
       "      <td>United States</td>\n",
       "      <td>No</td>\n",
       "      <td>Not employed, and not looking for work</td>\n",
       "      <td>Secondary school</td>\n",
       "      <td>NaN</td>\n",
       "      <td>NaN</td>\n",
       "      <td>NaN</td>\n",
       "      <td>...</td>\n",
       "      <td>Strongly disagree</td>\n",
       "      <td>Male</td>\n",
       "      <td>High school</td>\n",
       "      <td>White or of European descent</td>\n",
       "      <td>Strongly disagree</td>\n",
       "      <td>Strongly agree</td>\n",
       "      <td>Disagree</td>\n",
       "      <td>Strongly agree</td>\n",
       "      <td>NaN</td>\n",
       "      <td>NaN</td>\n",
       "    </tr>\n",
       "    <tr>\n",
       "      <th>1</th>\n",
       "      <td>2</td>\n",
       "      <td>Student</td>\n",
       "      <td>Yes, both</td>\n",
       "      <td>United Kingdom</td>\n",
       "      <td>Yes, full-time</td>\n",
       "      <td>Employed part-time</td>\n",
       "      <td>Some college/university study without earning ...</td>\n",
       "      <td>Computer science or software engineering</td>\n",
       "      <td>More than half, but not all, the time</td>\n",
       "      <td>20 to 99 employees</td>\n",
       "      <td>...</td>\n",
       "      <td>Strongly disagree</td>\n",
       "      <td>Male</td>\n",
       "      <td>A master's degree</td>\n",
       "      <td>White or of European descent</td>\n",
       "      <td>Somewhat agree</td>\n",
       "      <td>Somewhat agree</td>\n",
       "      <td>Disagree</td>\n",
       "      <td>Strongly agree</td>\n",
       "      <td>NaN</td>\n",
       "      <td>37500.0</td>\n",
       "    </tr>\n",
       "    <tr>\n",
       "      <th>2</th>\n",
       "      <td>3</td>\n",
       "      <td>Professional developer</td>\n",
       "      <td>Yes, both</td>\n",
       "      <td>United Kingdom</td>\n",
       "      <td>No</td>\n",
       "      <td>Employed full-time</td>\n",
       "      <td>Bachelor's degree</td>\n",
       "      <td>Computer science or software engineering</td>\n",
       "      <td>Less than half the time, but at least one day ...</td>\n",
       "      <td>10,000 or more employees</td>\n",
       "      <td>...</td>\n",
       "      <td>Disagree</td>\n",
       "      <td>Male</td>\n",
       "      <td>A professional degree</td>\n",
       "      <td>White or of European descent</td>\n",
       "      <td>Somewhat agree</td>\n",
       "      <td>Agree</td>\n",
       "      <td>Disagree</td>\n",
       "      <td>Agree</td>\n",
       "      <td>113750.0</td>\n",
       "      <td>NaN</td>\n",
       "    </tr>\n",
       "  </tbody>\n",
       "</table>\n",
       "<p>3 rows × 154 columns</p>\n",
       "</div>"
      ],
      "text/plain": [
       "   Respondent            Professional ProgramHobby         Country  \\\n",
       "0           1                 Student    Yes, both   United States   \n",
       "1           2                 Student    Yes, both  United Kingdom   \n",
       "2           3  Professional developer    Yes, both  United Kingdom   \n",
       "\n",
       "       University                        EmploymentStatus  \\\n",
       "0              No  Not employed, and not looking for work   \n",
       "1  Yes, full-time                      Employed part-time   \n",
       "2              No                      Employed full-time   \n",
       "\n",
       "                                     FormalEducation  \\\n",
       "0                                   Secondary school   \n",
       "1  Some college/university study without earning ...   \n",
       "2                                  Bachelor's degree   \n",
       "\n",
       "                             MajorUndergrad  \\\n",
       "0                                       NaN   \n",
       "1  Computer science or software engineering   \n",
       "2  Computer science or software engineering   \n",
       "\n",
       "                                          HomeRemote  \\\n",
       "0                                                NaN   \n",
       "1              More than half, but not all, the time   \n",
       "2  Less than half the time, but at least one day ...   \n",
       "\n",
       "                CompanySize  ... StackOverflowMakeMoney Gender  \\\n",
       "0                       NaN  ...      Strongly disagree   Male   \n",
       "1        20 to 99 employees  ...      Strongly disagree   Male   \n",
       "2  10,000 or more employees  ...               Disagree   Male   \n",
       "\n",
       "  HighestEducationParents                          Race         SurveyLong  \\\n",
       "0             High school  White or of European descent  Strongly disagree   \n",
       "1       A master's degree  White or of European descent     Somewhat agree   \n",
       "2   A professional degree  White or of European descent     Somewhat agree   \n",
       "\n",
       "  QuestionsInteresting  QuestionsConfusing InterestedAnswers    Salary  \\\n",
       "0       Strongly agree            Disagree    Strongly agree       NaN   \n",
       "1       Somewhat agree            Disagree    Strongly agree       NaN   \n",
       "2                Agree            Disagree             Agree  113750.0   \n",
       "\n",
       "   ExpectedSalary  \n",
       "0             NaN  \n",
       "1         37500.0  \n",
       "2             NaN  \n",
       "\n",
       "[3 rows x 154 columns]"
      ]
     },
     "execution_count": 127,
     "metadata": {},
     "output_type": "execute_result"
    }
   ],
   "source": [
    "\n",
    "#df = pd.read_csv('survey_results_public.csv')\n",
    "#shorter extract of data for debug purposes\n",
    "df = pd.read_csv('c.csv')\n",
    "schema = pd.read_csv('survey_results_schema.csv')\n",
    "\n",
    "df.head(3)\n"
   ]
  },
  {
   "cell_type": "markdown",
   "metadata": {},
   "source": [
    "## Subroutine Collection\n",
    "\n",
    "### Subroutine to measure the difference between set and wish of prog. lang. \n",
    "\n",
    "here a 34 dim space is introduced, each base vector is representing a programming language.\n",
    "Thus, C e.g. is [1,0,0,0......0], c++ is [0,1,0,0,0,....].\n",
    "Each 3 or 4 languages mentioned in the HaveWorkedLanguage or WantWork-Language column represent a special vector in this space. The entries for these languages are 1, all other are zero.\n",
    "\n",
    "The dot product describes the projection of such an hypervector on another of these, and is a crude measure of \n",
    "'difference' between these statements. \n",
    "\n",
    "0 means no single fit between languages used and languages keen to be used,\n",
    "1 means complete fit between languages used and languages keen to be used,\n",
    "\n",
    "The subroutine below takes care of transfering the statements to this simple metric."
   ]
  },
  {
   "cell_type": "code",
   "execution_count": 128,
   "metadata": {},
   "outputs": [],
   "source": [
    "\n",
    "mapper = {\n",
    "    \"JavaScript\":  0,     \"Python\":  1,     \"SQL\":  2,     \"C#\":  3,     \"Java\":  4,     \"C++\":  5,     \"TypeScript\":  6,     \"Go\":  7, \n",
    "    \"PHP\":  8,     \"Swift\":  9,     \"C\":  10,     \"Ruby\":  11,     \"Scala\":  12,     \"Rust\":  13,     \"R\":  14,     \"F#\":  15, \n",
    "    \"Haskell\":  16,     \"Objective-C\": 17,    \"Elixir\":  18,     \"Assembly\":  19,     \"Clojure\":  20,     \"Erlang\":  21,     \"Perl\":  22,     \"CoffeeScript\":     23, \n",
    "    \"Lua\":  24,     \"Groovy\":  25,     \"Matlab\":  26,     \"VB.NET\":  27,     \"Common Lisp\":      28,    \"Julia\":  29,     \"Dart\":  30,     \"Smalltalk\":  31, \n",
    "    \"VBA\":  32,     \"Hack\":  33,     \"Visual Basic 6\":  34\n",
    "}\n",
    "\n",
    "def createVectorFromList(mapobj, entry1, entry2):\n",
    "    '''\n",
    "    INPUT:\n",
    "    mapobj - dictionary of list position of programming language name\n",
    "    entry1 - ; separated list of prog.-lang.-names\n",
    "    entry2 - ; separated list of prog.-lang.-names\n",
    "    OUTPUT:\n",
    "    float value 0..1 characterising the geometrical similarity of the language lists in a 34 dim space.\n",
    "    This value is independent of sequence\n",
    "    '''\n",
    "    r1 = list(0 for _ in range(len(mapobj)))\n",
    "    r2 = list(0 for _ in range(len(mapobj)))\n",
    "    l1 = str.split(entry1,sep='; ')\n",
    "    l2 = str.split(entry2,sep='; ')\n",
    "    for k in l1:\n",
    "        r1[mapobj[k]] = 1\n",
    "    for k in l2:\n",
    "        r2[mapobj[k]] = 1\n",
    "    \n",
    "    m_a = m.sqrt(pd.Series(r1).dot(pd.Series(r1))) \n",
    "    m_b = m.sqrt(pd.Series(r2).dot(pd.Series(r2))) \n",
    "    metric = pd.Series(r1).dot(pd.Series(r2))/m_a/m_b\n",
    "    return metric\n"
   ]
  },
  {
   "cell_type": "markdown",
   "metadata": {},
   "source": [
    "Short Test: 1 0 1/sqrt(2)"
   ]
  },
  {
   "cell_type": "code",
   "execution_count": 129,
   "metadata": {},
   "outputs": [
    {
     "name": "stdout",
     "output_type": "stream",
     "text": [
      "1.0000000000000002\n",
      "0.0\n",
      "0.7071067811865475\n"
     ]
    }
   ],
   "source": [
    "u = createVectorFromList(mapper,'Python; C; C#','Python; C; C#')\n",
    "print(u)\n",
    "u = createVectorFromList(mapper,'Python; C; C#','Matlab; Haskell')\n",
    "print(u)\n",
    "u = createVectorFromList(mapper,'Python; C; C#; Go','Python; C')\n",
    "print(u)"
   ]
  },
  {
   "cell_type": "markdown",
   "metadata": {},
   "source": [
    "### 2 small helpers to drop NaN and calculate measure between 2 cols"
   ]
  },
  {
   "cell_type": "code",
   "execution_count": 130,
   "metadata": {},
   "outputs": [],
   "source": [
    "\n",
    "def cleansData(df):\n",
    "    print(\"-----------------------\")\n",
    "    df = df.dropna(axis=0, subset=['HaveWorkedLanguage','WantWorkLanguage','JobSatisfaction'])\n",
    "    df.reset_index(drop=True, inplace=True)\n",
    "    return df\n",
    "\n",
    "def calcWeight(df):\n",
    "    for index, row in df.iterrows():\n",
    "        u = createVectorFromList(mapper, row['HaveWorkedLanguage'], row['WantWorkLanguage'])\n",
    "        df.loc[index, 'Weight']= u\n",
    "    return df\n"
   ]
  },
  {
   "cell_type": "markdown",
   "metadata": {},
   "source": [
    "### One-Column-Exploder\n",
    "\n",
    "This subroutine will explode the ; separated entries into a row for each substring, keeping the other records unharmed.\n",
    "After using this, One can create a value-count frequency analysis of the different languages. "
   ]
  },
  {
   "cell_type": "code",
   "execution_count": 131,
   "metadata": {},
   "outputs": [],
   "source": [
    "def createDFwithExplodedLanguage(adf,col):\n",
    "    df = adf.copy()\n",
    "    s = df[col].str.split('; ').apply(pd.Series, 1).stack()\n",
    "    s.index = s.index.droplevel(-1) # to line up with xdf's index\n",
    "    s.name = col # needs a name to join\n",
    "    del df[col]\n",
    "    return df.join(s)\n",
    "\n"
   ]
  },
  {
   "cell_type": "markdown",
   "metadata": {},
   "source": [
    "## Reduce the dataset to the only used columns for the analysis to come"
   ]
  },
  {
   "cell_type": "code",
   "execution_count": 132,
   "metadata": {
    "scrolled": true
   },
   "outputs": [
    {
     "name": "stdout",
     "output_type": "stream",
     "text": [
      "here i slice it\n",
      "-----------------------\n",
      "   Respondent                                 HaveWorkedLanguage  \\\n",
      "0           3                                  Java; PHP; Python   \n",
      "1           4                             Matlab; Python; R; SQL   \n",
      "2           7                                     Matlab; Python   \n",
      "3           8  CoffeeScript; Clojure; Elixir; Erlang; Haskell...   \n",
      "4           9                                     C#; JavaScript   \n",
      "\n",
      "                            WantWorkLanguage  JobSatisfaction  \\\n",
      "0                            C; Python; Rust              9.0   \n",
      "1                     Matlab; Python; R; SQL              3.0   \n",
      "2  JavaScript; Julia; Matlab; Python; R; SQL              6.0   \n",
      "3            Clojure; Elixir; Haskell; Scala              7.0   \n",
      "4                                     F#; Go              6.0   \n",
      "\n",
      "                                        Professional    Weight  \n",
      "0                             Professional developer  0.333333  \n",
      "1  Professional non-developer who sometimes write...  1.000000  \n",
      "2  Professional non-developer who sometimes write...  0.577350  \n",
      "3                             Professional developer  0.530330  \n",
      "4                             Professional developer  0.000000  \n"
     ]
    }
   ],
   "source": [
    "#=========================================================================================================\n",
    "#=========================================================================================================\n",
    "#=========================================================================================================\n",
    "#=========================================================================================================\n",
    "\n",
    "print(\"here i slice it\")\n",
    "\n",
    "xdf = df.loc[:,('Respondent','HaveWorkedLanguage','WantWorkLanguage','JobSatisfaction', 'Professional')]\n",
    "#udf = df.loc[:,('Respondent','HaveWorkedLanguage','WantWorkLanguage','JobSatisfaction', 'Professional')]\n",
    "#udf = udf.dropna(axis=0, subset=['HaveWorkedLanguage','WantWorkLanguage','JobSatisfaction'])\n",
    "#udf.reset_index(drop=True, inplace=True)\n",
    "\n",
    "xdf = cleansData(xdf)\n",
    "xdf = calcWeight(xdf)\n",
    "\n",
    "#udf = cleansData(udf)\n",
    "#udf = calcWeight(udf)\n",
    "\n",
    "print( xdf.head())\n",
    "\n"
   ]
  },
  {
   "cell_type": "markdown",
   "metadata": {},
   "source": [
    "### Now the simple statistics for usage of languages"
   ]
  },
  {
   "cell_type": "code",
   "execution_count": 133,
   "metadata": {},
   "outputs": [],
   "source": [
    "def createDFwithExplodedLanguage(adf,col):\n",
    "    df = adf.copy()\n",
    "    s = df[col].str.split('; ').apply(pd.Series, 1).stack()\n",
    "    s.index = s.index.droplevel(-1) # to line up with xdf's index\n",
    "    s.name = col # needs a name to join\n",
    "    del df[col]\n",
    "    return df.join(s)\n",
    "\n"
   ]
  },
  {
   "cell_type": "code",
   "execution_count": 134,
   "metadata": {},
   "outputs": [
    {
     "name": "stdout",
     "output_type": "stream",
     "text": [
      "----RDS----\n",
      "   Respondent WantWorkLanguage  JobSatisfaction            Professional  \\\n",
      "0           3  C; Python; Rust              9.0  Professional developer   \n",
      "0           3  C; Python; Rust              9.0  Professional developer   \n",
      "\n",
      "     Weight HaveWorkedLanguage  \n",
      "0  0.333333               Java  \n",
      "0  0.333333                PHP  \n",
      "----XDF----\n",
      "   Respondent      HaveWorkedLanguage        WantWorkLanguage  \\\n",
      "0           3       Java; PHP; Python         C; Python; Rust   \n",
      "1           4  Matlab; Python; R; SQL  Matlab; Python; R; SQL   \n",
      "\n",
      "   JobSatisfaction                                       Professional  \\\n",
      "0              9.0                             Professional developer   \n",
      "1              3.0  Professional non-developer who sometimes write...   \n",
      "\n",
      "     Weight  \n",
      "0  0.333333  \n",
      "1  1.000000  \n",
      "===========================================================\n",
      "----SDS----\n",
      "   Respondent HaveWorkedLanguage  JobSatisfaction            Professional  \\\n",
      "0           3  Java; PHP; Python              9.0  Professional developer   \n",
      "0           3  Java; PHP; Python              9.0  Professional developer   \n",
      "\n",
      "     Weight WantWorkLanguage  \n",
      "0  0.333333                C  \n",
      "0  0.333333           Python  \n",
      "----XDF----\n",
      "   Respondent      HaveWorkedLanguage        WantWorkLanguage  \\\n",
      "0           3       Java; PHP; Python         C; Python; Rust   \n",
      "1           4  Matlab; Python; R; SQL  Matlab; Python; R; SQL   \n",
      "\n",
      "   JobSatisfaction                                       Professional  \\\n",
      "0              9.0                             Professional developer   \n",
      "1              3.0  Professional non-developer who sometimes write...   \n",
      "\n",
      "     Weight  \n",
      "0  0.333333  \n",
      "1  1.000000  \n",
      "===========================================================\n"
     ]
    }
   ],
   "source": [
    "rds = createDFwithExplodedLanguage(xdf,'HaveWorkedLanguage')\n",
    "languageSet=rds.groupby(['HaveWorkedLanguage']).mean()['JobSatisfaction']\n",
    "print(\"----RDS----\")\n",
    "print(rds.head(2))\n",
    "print(\"----XDF----\")\n",
    "print(xdf.head(2))\n",
    "print(\"===========================================================\")\n",
    "\n",
    "sds = createDFwithExplodedLanguage(xdf,'WantWorkLanguage')\n",
    "languageWish=sds.groupby(['WantWorkLanguage']).mean()['JobSatisfaction']\n",
    "print(\"----SDS----\")\n",
    "print(sds.head(2))\n",
    "print(\"----XDF----\")\n",
    "print(xdf.head(2))\n",
    "print(\"===========================================================\")\n"
   ]
  },
  {
   "cell_type": "code",
   "execution_count": 135,
   "metadata": {},
   "outputs": [
    {
     "name": "stdout",
     "output_type": "stream",
     "text": [
      "   Respondent                                 HaveWorkedLanguage  \\\n",
      "0           3                                  Java; PHP; Python   \n",
      "1           4                             Matlab; Python; R; SQL   \n",
      "2           7                                     Matlab; Python   \n",
      "3           8  CoffeeScript; Clojure; Elixir; Erlang; Haskell...   \n",
      "4           9                                     C#; JavaScript   \n",
      "\n",
      "                            WantWorkLanguage  JobSatisfaction  \\\n",
      "0                            C; Python; Rust              9.0   \n",
      "1                     Matlab; Python; R; SQL              3.0   \n",
      "2  JavaScript; Julia; Matlab; Python; R; SQL              6.0   \n",
      "3            Clojure; Elixir; Haskell; Scala              7.0   \n",
      "4                                     F#; Go              6.0   \n",
      "\n",
      "                                        Professional    Weight  \n",
      "0                             Professional developer  0.333333  \n",
      "1  Professional non-developer who sometimes write...  1.000000  \n",
      "2  Professional non-developer who sometimes write...  0.577350  \n",
      "3                             Professional developer  0.530330  \n",
      "4                             Professional developer  0.000000  \n"
     ]
    }
   ],
   "source": [
    "\n",
    "print( xdf.head())"
   ]
  },
  {
   "cell_type": "code",
   "execution_count": 136,
   "metadata": {},
   "outputs": [
    {
     "data": {
      "image/png": "[encoded data removed]",
      "text/plain": [
       "<Figure size 432x288 with 1 Axes>"
      ]
     },
     "metadata": {
      "needs_background": "light"
     },
     "output_type": "display_data"
    }
   ],
   "source": [
    "#==========================\n",
    "# Fun fact evaluation: correlation between JobSatisfaction and Programming Language\n",
    "# don't mix correlation and causality, as there are 150 more input variables!\n",
    "#==========================\n",
    "(languageSet.sort_values()-6).plot(kind=\"bar\");\n",
    "plt.title(\"Satisfaction Languages One Worked With\");\n",
    "plt.savefig(\"kindoflanguages.png\")\n",
    "\n"
   ]
  },
  {
   "cell_type": "code",
   "execution_count": 137,
   "metadata": {},
   "outputs": [
    {
     "data": {
      "image/png": "[encoded data removed]",
      "text/plain": [
       "<Figure size 432x288 with 1 Axes>"
      ]
     },
     "metadata": {
      "needs_background": "light"
     },
     "output_type": "display_data"
    }
   ],
   "source": [
    "#==========================\n",
    "# Fun fact evaluation: correlation between JobSatisfaction and 'keen on' Programming Language\n",
    "# don't mix correlation and causality, as there are 150 more input variables! (not used further)\n",
    "#==========================\n",
    "(languageWish.sort_values()-6).plot(kind=\"bar\");\n",
    "plt.title(\"Satisfaction Languages One Worked With\");\n",
    "plt.savefig(\"kindoflanguageswish.png\")\n"
   ]
  },
  {
   "cell_type": "markdown",
   "metadata": {},
   "source": [
    "## Descriptive Statistics\n",
    "\n",
    "###  Correlation Analysis of built crude Metric of Discrepancy and Job Satisfaction"
   ]
  },
  {
   "cell_type": "code",
   "execution_count": 140,
   "metadata": {},
   "outputs": [
    {
     "name": "stdout",
     "output_type": "stream",
     "text": [
      "   Respondent      HaveWorkedLanguage        WantWorkLanguage  \\\n",
      "0           3       Java; PHP; Python         C; Python; Rust   \n",
      "1           4  Matlab; Python; R; SQL  Matlab; Python; R; SQL   \n",
      "\n",
      "   JobSatisfaction                                       Professional  \\\n",
      "0              9.0                             Professional developer   \n",
      "1              3.0  Professional non-developer who sometimes write...   \n",
      "\n",
      "     Weight  \n",
      "0  0.333333  \n",
      "1  1.000000  \n"
     ]
    },
    {
     "data": {
      "image/png": "[encoded data removed]",
      "text/plain": [
       "<Figure size 432x288 with 1 Axes>"
      ]
     },
     "metadata": {
      "needs_background": "light"
     },
     "output_type": "display_data"
    }
   ],
   "source": [
    "#==========================\n",
    "# Correlation Analysis of built metric of discrepancy and Job Satisfaction\n",
    "#==========================\n",
    "print(xdf.head(2))\n",
    "xdf.plot.scatter(x=['Weight'], y=['JobSatisfaction'])\n",
    "plt.title(\"Satisfaction versus wish dicrepancy\");\n",
    "plt.savefig(\"kindoflanguagediscrepancy.png\")"
   ]
  },
  {
   "cell_type": "markdown",
   "metadata": {},
   "source": [
    "### Preference of Programming Languages as used nowadays"
   ]
  },
  {
   "cell_type": "code",
   "execution_count": 142,
   "metadata": {},
   "outputs": [
    {
     "name": "stdout",
     "output_type": "stream",
     "text": [
      "Assembly        1\n",
      "C               2\n",
      "C#              1\n",
      "C++             1\n",
      "Clojure         2\n",
      "CoffeeScript    1\n",
      "Elixir          1\n",
      "Erlang          1\n",
      "Haskell         1\n",
      "Java            2\n",
      "Name: HaveWorkedLanguage, dtype: int64\n"
     ]
    },
    {
     "data": {
      "image/png": "[encoded data removed]",
      "text/plain": [
       "<Figure size 432x288 with 1 Axes>"
      ]
     },
     "metadata": {
      "needs_background": "light"
     },
     "output_type": "display_data"
    }
   ],
   "source": [
    "# step by step demo: \n",
    "# apply value_counts and sort by language name -- later on for join operation\n",
    "md = rds['HaveWorkedLanguage'].value_counts().sort_index()\n",
    "print(md.head(10))\n",
    "\n",
    "# apply value_counts and sort by value count  -- plot of preference\n",
    "((rds['HaveWorkedLanguage'].value_counts()).sort_values()).plot(kind=\"bar\");\n",
    "plt.title(\"How many which Language\");\n",
    "plt.savefig(\"kindofcountlang.png\")\n"
   ]
  },
  {
   "cell_type": "code",
   "execution_count": 144,
   "metadata": {},
   "outputs": [
    {
     "data": {
      "image/png": "[encoded data removed]",
      "text/plain": [
       "<Figure size 432x288 with 1 Axes>"
      ]
     },
     "metadata": {
      "needs_background": "light"
     },
     "output_type": "display_data"
    }
   ],
   "source": [
    "# step by step demo: \n",
    "# apply value_counts and sort by language name -- later on for join operation\n",
    "nd = sds['WantWorkLanguage'].value_counts().sort_index()\n",
    "\n",
    "# apply value_counts and sort by value count  -- plot of preference\n",
    "((sds['WantWorkLanguage'].value_counts()).sort_values()).plot(kind=\"bar\");\n",
    "plt.title(\"How many Change To Language\");\n",
    "plt.savefig(\"kindofcountwishlang.png\")"
   ]
  },
  {
   "cell_type": "markdown",
   "metadata": {},
   "source": [
    "### Direct comparision: Join preference vectors, transpose and plot together"
   ]
  },
  {
   "cell_type": "code",
   "execution_count": 146,
   "metadata": {},
   "outputs": [
    {
     "name": "stdout",
     "output_type": "stream",
     "text": [
      "        HaveWorkedLanguage  WantWorkLanguage\n",
      "Perl                   1.0               1.0\n",
      "Julia                  NaN               1.0\n",
      "VB.NET                 1.0               1.0\n",
      "Ruby                   2.0               1.0\n",
      "Scala                  NaN               1.0\n"
     ]
    },
    {
     "data": {
      "image/png": "[encoded data removed]",
      "text/plain": [
       "<Figure size 432x288 with 1 Axes>"
      ]
     },
     "metadata": {
      "needs_background": "light"
     },
     "output_type": "display_data"
    }
   ],
   "source": [
    "# due to sort_index, the indeizes of md and nd are the same and sorted together -- one common index in dataframe\n",
    "# then, sort for values of one column to create base of preference plot, and plot the other values over\n",
    "uf = pd.DataFrame([md,nd]).transpose().sort_values(['WantWorkLanguage'])\n",
    "print(uf.head(5))\n",
    "\n",
    "uf.plot(y=['HaveWorkedLanguage',  'WantWorkLanguage'], kind='bar')\n",
    "plt.title(\"Direct Comparision\");\n",
    "plt.savefig(\"kindofcomparision.png\")"
   ]
  }
 ],
 "metadata": {
  "kernelspec": {
   "display_name": "Python 3",
   "language": "python",
   "name": "python3"
  },
  "language_info": {
   "codemirror_mode": {
    "name": "ipython",
    "version": 3
   },
   "file_extension": ".py",
   "mimetype": "text/x-python",
   "name": "python",
   "nbconvert_exporter": "python",
   "pygments_lexer": "ipython3",
   "version": "3.7.6"
  }
 },
 "nbformat": 4,
 "nbformat_minor": 2
}
